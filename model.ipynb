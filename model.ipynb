{
 "cells": [
  {
   "cell_type": "markdown",
   "metadata": {},
   "source": [
    "# 算法实现"
   ]
  },
  {
   "cell_type": "markdown",
   "metadata": {},
   "source": [
    "### 协同过滤"
   ]
  },
  {
   "cell_type": "markdown",
   "metadata": {},
   "source": [
    "##### Apriori"
   ]
  },
  {
   "cell_type": "code",
   "execution_count": 2,
   "metadata": {},
   "outputs": [],
   "source": [
    "import numpy as np\n",
    "from pprint import pprint"
   ]
  },
  {
   "cell_type": "code",
   "execution_count": 3,
   "metadata": {},
   "outputs": [],
   "source": [
    "class Apriori:\n",
    "\n",
    "    def __init__(self, min_support, min_confidence):\n",
    "        self.min_support = min_support # 最小支持度\n",
    "        self.min_confidence = min_confidence # 最小置信度\n",
    "\n",
    "    def count(self, filename='apriori.txt'):\n",
    "        self.total = 0 # 数据总行数\n",
    "        items = {} # 物品清单\n",
    "\n",
    "        # 统计得到物品清单\n",
    "        with open(filename) as f:\n",
    "            for l in f:\n",
    "                self.total += 1\n",
    "                for i in l.strip().split(','): # 以逗号隔开\n",
    "                    if i in items:\n",
    "                        items[i] += 1.\n",
    "                    else:\n",
    "                        items[i] = 1.\n",
    "\n",
    "        # 物品清单去重，并映射到ID\n",
    "        self.items = {i:j/self.total for i,j in items.items() if j/self.total > self.min_support}\n",
    "        self.item2id = {j:i for i,j in enumerate(self.items)}\n",
    "\n",
    "        # 物品清单的0-1矩阵\n",
    "        self.D = np.zeros((self.total, len(items)), dtype=bool)\n",
    "\n",
    "        # 重新遍历文件，得到物品清单的0-1矩阵\n",
    "        with open(filename) as f:\n",
    "            for n,l in enumerate(f):\n",
    "                for i in l.strip().split(','):\n",
    "                    if i in self.items:\n",
    "                        self.D[n, self.item2id[i]] = True\n",
    "\n",
    "    def find_rules(self, filename='apriori.txt'):\n",
    "        self.count(filename)\n",
    "        rules = [{(i,):j for i,j in self.items.items()}] # 记录每一步的频繁项集\n",
    "        l = 0 # 当前步的频繁项的物品数\n",
    "\n",
    "        while rules[-1]: # 包含了从k频繁项到k+1频繁项的构建过程\n",
    "            rules.append({})\n",
    "            keys = sorted(rules[-2].keys()) # 对每个k频繁项按字典序排序（核心）\n",
    "            num = len(rules[-2])\n",
    "            l += 1\n",
    "            for i in range(num): # 遍历每个k频繁项对\n",
    "                for j in range(i+1,num):\n",
    "                    # 如果前面k-1个重叠，那么这两个k频繁项就可以组合成一个k+1频繁项\n",
    "                    if keys[i][:l-1] == keys[j][:l-1]:\n",
    "                        _ = keys[i] + (keys[j][l-1],)\n",
    "                        _id = [self.item2id[k] for k in _]\n",
    "                        support = 1. * sum(np.prod(self.D[:, _id], 1)) / self.total # 通过连乘获取共现次数，并计算支持度\n",
    "                        if support > self.min_support: # 确认是否足够频繁\n",
    "                            rules[-1][_] = support\n",
    "\n",
    "        # 遍历每一个频繁项，计算置信度\n",
    "        result = {}\n",
    "        for n,relu in enumerate(rules[1:]): # 对于所有的k，遍历k频繁项\n",
    "            for r,v in relu.items(): # 遍历所有的k频繁项\n",
    "                for i,_ in enumerate(r): # 遍历所有的排列，即(A,B,C)究竟是 A,B -> C 还是 A,B -> C 还是 A,B -> C ？\n",
    "                    x = r[:i] + r[i+1:]\n",
    "                    confidence = v / rules[n][x] # 不同排列的置信度\n",
    "                    if confidence > self.min_confidence: # 如果某种排列的置信度足够大，那么就加入到结果\n",
    "                        result[x+(r[i],)] = (confidence, v)\n",
    "\n",
    "        return sorted(result.items(), key=lambda x: -x[1][0]) # 按置信度降序排列"
   ]
  },
  {
   "cell_type": "code",
   "execution_count": 4,
   "metadata": {},
   "outputs": [
    {
     "name": "stdout",
     "output_type": "stream",
     "text": [
      "[(('A3', 'F4', 'H4'), (0.8795180722891566, 0.07849462365591398)),\n",
      " (('C3', 'F4', 'H4'), (0.875, 0.07526881720430108)),\n",
      " (('B2', 'F4', 'H4'), (0.7945205479452054, 0.06236559139784946)),\n",
      " (('C2', 'E3', 'D2'), (0.7543859649122807, 0.09247311827956989)),\n",
      " (('D2', 'F3', 'H4', 'A2'), (0.7532467532467533, 0.06236559139784946))]\n"
     ]
    }
   ],
   "source": [
    "# 输出代表的意思是，前n-1项可以推出第n项，例如：A3+F4-->H4 confidence=\n",
    "model = Apriori(0.06, 0.75)\n",
    "pprint(model.find_rules('./Data/apriori.txt'))"
   ]
  },
  {
   "cell_type": "code",
   "execution_count": null,
   "metadata": {},
   "outputs": [],
   "source": []
  }
 ],
 "metadata": {
  "kernelspec": {
   "display_name": "Python 3",
   "language": "python",
   "name": "python3"
  },
  "language_info": {
   "codemirror_mode": {
    "name": "ipython",
    "version": 3
   },
   "file_extension": ".py",
   "mimetype": "text/x-python",
   "name": "python",
   "nbconvert_exporter": "python",
   "pygments_lexer": "ipython3",
   "version": "3.6.5"
  }
 },
 "nbformat": 4,
 "nbformat_minor": 2
}
